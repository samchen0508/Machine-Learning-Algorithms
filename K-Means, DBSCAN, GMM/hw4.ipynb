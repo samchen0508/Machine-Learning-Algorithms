{
 "cells": [
  {
   "attachments": {},
   "cell_type": "markdown",
   "metadata": {},
   "source": [
    "# CS145 Howework 4\n",
    "\n",
    "\n",
    "<span style=\"color:red\"> **Important Note:** </span>\n",
    "HW4 is due on **11:59 PM PT, Nov 20 (Friday, Week 7)**. Please submit through GradeScope. \n",
    "\n",
    "## Print Out Your Name and UID\n",
    "\n",
    "<span style=\"color:blue\"> **Name: Rui Deng, UID: 205123245** </span>\n",
    "\n",
    "## Before You Start\n",
    "\n",
    "You need to first create HW4 conda environment by the given `cs145hw4.yml` file, which provides the name and necessary packages for this tasks. If you have `conda` properly installed, you may create, activate or deactivate by the following commands:\n",
    "\n",
    "```\n",
    "conda env create -f cs145hw4.yml\n",
    "conda activate hw4\n",
    "conda deactivate\n",
    "```\n",
    "OR \n",
    "\n",
    "```\n",
    "conda env create --name NAMEOFYOURCHOICE -f cs145hw4.yml \n",
    "conda activate NAMEOFYOURCHOICE\n",
    "conda deactivate\n",
    "```\n",
    "To view the list of your environments, use the following command:\n",
    "```\n",
    "conda env list\n",
    "```\n",
    "\n",
    "More useful information about managing environments can be found [here](https://docs.conda.io/projects/conda/en/latest/user-guide/tasks/manage-environments.html).\n",
    "\n",
    "You may also quickly review the usage of basic Python and Numpy package, if needed in coding for matrix operations.\n",
    "\n",
    "In this notebook, you must not delete any code cells in this notebook. If you change any code outside the blocks (such as some important hyperparameters) that you are allowed to edit (between STRART/END YOUR CODE HERE), you need to highlight these changes. You may add some additional cells to help explain your results and observations."
   ]
  },
  {
   "cell_type": "code",
   "execution_count": 10,
   "metadata": {},
   "outputs": [
    {
     "name": "stdout",
     "output_type": "stream",
     "text": [
      "The autoreload extension is already loaded. To reload it, use:\n",
      "  %reload_ext autoreload\n"
     ]
    }
   ],
   "source": [
    "import numpy as np \n",
    "import pandas as pd\n",
    "import sys \n",
    "import random\n",
    "import math\n",
    "import matplotlib.pyplot as plt\n",
    "from scipy.stats import multivariate_normal\n",
    "%load_ext autoreload\n",
    "%autoreload 2"
   ]
  },
  {
   "attachments": {},
   "cell_type": "markdown",
   "metadata": {},
   "source": [
    "If you can successfully run the code above, there will be no problem for environment setting."
   ]
  },
  {
   "attachments": {},
   "cell_type": "markdown",
   "metadata": {},
   "source": [
    "## 1. Clustering Evaluation\n",
    "This workbook will walk you through an example for calculating different clustering metrics. \n",
    "\n",
    "<span style=\"color:red\"> Note: This is a \"question-answer\" style problem. You do not need to code anything and you are required to calculate by hand (with a scientific calculator). </span>"
   ]
  },
  {
   "attachments": {},
   "cell_type": "markdown",
   "metadata": {},
   "source": [
    "**Questions**\n",
    "\n",
    "\n",
    "Suppose we want to cluster the following 20 conferences into four areas, with ground truth label and algorithm output label shown in third and fourth column. Please evaluate the quality of the clustering algorithm according to four different metrics respectively.<img src=\"conferences.png\"  width=\"600\"/>"
   ]
  },
  {
   "attachments": {},
   "cell_type": "markdown",
   "metadata": {},
   "source": [
    "\n",
    "**Questions (please include intermediate steps)**\n",
    "\n"
   ]
  },
  {
   "attachments": {},
   "cell_type": "markdown",
   "metadata": {},
   "source": [
    "1. Calculate purity.\n",
    "2. Calculate precision.\n",
    "3. Calculate recall.\n",
    "4. Calculate F1-score.\n",
    "5. Calculate normalized mutual information."
   ]
  },
  {
   "attachments": {},
   "cell_type": "markdown",
   "metadata": {},
   "source": [
    "**Your answer here:**\n"
   ]
  },
  {
   "attachments": {},
   "cell_type": "markdown",
   "metadata": {},
   "source": [
    "<span style=\"color:red\"> Note: you can use several code cells to help you compute the results and answer the questions. Again you don't need to do any coding. </span>"
   ]
  },
  {
   "attachments": {},
   "cell_type": "markdown",
   "metadata": {},
   "source": [
    "<span style=\"color:blue\"> Please type your answer here! </span>"
   ]
  },
  {
   "attachments": {},
   "cell_type": "markdown",
   "metadata": {},
   "source": [
    "answer 1"
   ]
  },
  {
   "attachments": {},
   "cell_type": "markdown",
   "metadata": {},
   "source": [
    "We assign algorithm output label 1 to ground truth label 2, and all of the 5 datapoints are matched.\n",
    "\n",
    "We assign algorithm output label 2 to ground truth label 3, and 5 out of the 6 datapoints are matched. (the non-matched datapoint has ground truth label 1)\n",
    "\n",
    "We assign algorithm output label 3 to ground truth label 1, and 4 out of the 5 datapoints are matched. (the non-matched datapoint has ground truth label 4)\n",
    "\n",
    "We assign algorithm output label 4 to ground truth label 4, and 4 out of the 4 datapoints are matched.\n",
    "\n",
    "So the purity is:\n",
    "\n",
    "$$ purity = \\frac {1} {N} \\sum_k {max |c_k \\cap \\omega_j|} = \\frac {1} {20} * (5 + 5 + 4 + 4) = 0.9 $$\n"
   ]
  },
  {
   "attachments": {},
   "cell_type": "markdown",
   "metadata": {},
   "source": [
    "answer 2"
   ]
  },
  {
   "attachments": {},
   "cell_type": "markdown",
   "metadata": {},
   "source": [
    "Precision is  $ \\frac {TP} {TP + FP} $. Then we use coding to calculate TP, FP, TN, and FN:"
   ]
  },
  {
   "cell_type": "code",
   "execution_count": 4,
   "metadata": {},
   "outputs": [
    {
     "name": "stdout",
     "output_type": "stream",
     "text": [
      "0.7804878048780488\n"
     ]
    }
   ],
   "source": [
    "ground_truth = [3, 3, 1, 1, 1, 4, 3, 3, 4, 2, 4, 2, 1, 2, 3, 2, 1, 2, 4, 4]\n",
    "output_label = [2, 2, 3, 3, 3, 4, 2, 2, 3, 1, 4, 1, 3, 1, 2, 1, 2, 1, 4, 4]\n",
    "TP = 0.0\n",
    "FP = 0.0\n",
    "TN = 0.0\n",
    "FN = 0.0\n",
    "for i in range(len(ground_truth)):\n",
    "    for j in range(i + 1, len(ground_truth)):\n",
    "        g = ground_truth[i]\n",
    "        l = output_label[j]\n",
    "        if output_label[i] == output_label[j]:\n",
    "            if ground_truth[i] == ground_truth[j]:\n",
    "                TP += 1\n",
    "            else:\n",
    "                FP += 1\n",
    "        else:\n",
    "            if ground_truth[i] == ground_truth[j]:\n",
    "                FN += 1\n",
    "            else:\n",
    "                TN += 1\n",
    "precision = TP / (TP + FP)\n",
    "print(precision) "
   ]
  },
  {
   "attachments": {},
   "cell_type": "markdown",
   "metadata": {},
   "source": [
    "So the precision is 0.78."
   ]
  },
  {
   "attachments": {},
   "cell_type": "markdown",
   "metadata": {},
   "source": [
    "answer 3"
   ]
  },
  {
   "attachments": {},
   "cell_type": "markdown",
   "metadata": {},
   "source": [
    "Recall is $\\frac {TP} {TP + FN}$. Using the previous code, we have:"
   ]
  },
  {
   "cell_type": "code",
   "execution_count": 5,
   "metadata": {},
   "outputs": [
    {
     "name": "stdout",
     "output_type": "stream",
     "text": [
      "0.8\n"
     ]
    }
   ],
   "source": [
    "recall = TP / (TP + FN)\n",
    "print(recall)"
   ]
  },
  {
   "attachments": {},
   "cell_type": "markdown",
   "metadata": {},
   "source": [
    "So the recall is 0.8."
   ]
  },
  {
   "attachments": {},
   "cell_type": "markdown",
   "metadata": {},
   "source": [
    "answer 4"
   ]
  },
  {
   "attachments": {},
   "cell_type": "markdown",
   "metadata": {},
   "source": [
    "F1-score is $\\frac {2 * Precision * Recall} {Precision + Recall}$. Using the previous code, we have:"
   ]
  },
  {
   "cell_type": "code",
   "execution_count": 6,
   "metadata": {},
   "outputs": [
    {
     "name": "stdout",
     "output_type": "stream",
     "text": [
      "0.7901234567901235\n"
     ]
    }
   ],
   "source": [
    "print(2 * precision * recall / (precision + recall))"
   ]
  },
  {
   "attachments": {},
   "cell_type": "markdown",
   "metadata": {},
   "source": [
    "So the F-1 score is 0.79."
   ]
  },
  {
   "attachments": {},
   "cell_type": "markdown",
   "metadata": {},
   "source": [
    "answer 5"
   ]
  },
  {
   "attachments": {},
   "cell_type": "markdown",
   "metadata": {},
   "source": [
    "We use coding to generate normalized mutual information:"
   ]
  },
  {
   "cell_type": "code",
   "execution_count": 13,
   "metadata": {},
   "outputs": [
    {
     "name": "stdout",
     "output_type": "stream",
     "text": [
      "0.8152212305376372\n"
     ]
    }
   ],
   "source": [
    "from collections import Counter\n",
    "import math\n",
    "\n",
    "N = 20.0\n",
    "dic_output = Counter(output_label)\n",
    "dic_truth = Counter(ground_truth)\n",
    "H_O = 0.0\n",
    "H_T = 0.0\n",
    "for i in range(1, 5):\n",
    "    H_O -= dic_output[i] / N * math.log(dic_output[i] / N, 2)\n",
    "    H_T -= dic_truth[i] / N * math.log(dic_truth[i] / N, 2)\n",
    "I = 0.0\n",
    "I += 5 / N * math.log(N * 5 / (dic_output[1] * dic_truth[2]), 2)\n",
    "I += 5 / N * math.log(N * 5 / (dic_output[2] * dic_truth[3]), 2) + 1 / N * math.log(N * 1 / (dic_output[2] * dic_truth[1]), 2)\n",
    "I += 4 / N * math.log(N * 4 / (dic_output[3] * dic_truth[1]), 2) + 1 / N * math.log(N * 1 / (dic_output[3] * dic_truth[4]), 2)\n",
    "I += 4 / N * math.log(N * 4 / (dic_output[4] * dic_truth[4]), 2)\n",
    "print(I / (H_O * H_T) ** (1 / 2))"
   ]
  },
  {
   "attachments": {},
   "cell_type": "markdown",
   "metadata": {},
   "source": [
    "So the NMI is 0.8152."
   ]
  },
  {
   "attachments": {},
   "cell_type": "markdown",
   "metadata": {},
   "source": [
    "## 2. K-means"
   ]
  },
  {
   "attachments": {},
   "cell_type": "markdown",
   "metadata": {},
   "source": [
    "In this section, we are going to apply K-means algorithm against two datasets (dataset1.txt, dataset2.txt) with different distributions, respectively. \n",
    "\n",
    "\n",
    "For each dataset, it contains 3 columns, with the format: x1 \\t x2 \\t cluster_label. You need to use the first two columns for clustering, and the last column for evaluation.\n"
   ]
  },
  {
   "cell_type": "code",
   "execution_count": 14,
   "metadata": {
    "scrolled": true
   },
   "outputs": [
    {
     "name": "stdout",
     "output_type": "stream",
     "text": [
      "\n",
      "For dataset1: number of datapoints is 150\n",
      "          x         y  ground_truth_cluster\n",
      "0 -0.163880 -0.219869                     1\n",
      "1 -0.886274 -0.356186                     1\n",
      "2 -0.978910 -0.893314                     1\n",
      "3 -0.658867 -0.371122                     1\n",
      "4 -0.072518  0.399157                     1\n",
      "\n",
      "For dataset2: number of datapoints is 200\n",
      "          x         y  ground_truth_cluster\n",
      "0  1.068587  0.136921                     1\n",
      "1  0.705440  0.393068                     1\n",
      "2  0.840811 -0.054906                     1\n",
      "3 -0.923447  0.598501                     1\n",
      "4  0.784353  0.724743                     1\n"
     ]
    }
   ],
   "source": [
    "from hw4code.KMeans import KMeans\n",
    "k = KMeans()\n",
    "# As a sanity check, we print out a sample of each dataset\n",
    "dataname1 = \"data/dataset1.txt\"\n",
    "dataname2 = \"data/dataset2.txt\"\n",
    "k.check_dataloader(dataname1)\n",
    "k.check_dataloader(dataname2)"
   ]
  },
  {
   "attachments": {},
   "cell_type": "markdown",
   "metadata": {},
   "source": [
    "### 2.1 Coding K-means"
   ]
  },
  {
   "attachments": {},
   "cell_type": "markdown",
   "metadata": {},
   "source": [
    "Complete the `reassignClusters` and `getCentroid` function in `KMeans.py`. \n",
    "\n",
    "Print out each output cluster's size and centroid（x,y) for dataset1 and dataset2 respectively."
   ]
  },
  {
   "cell_type": "code",
   "execution_count": 17,
   "metadata": {},
   "outputs": [
    {
     "name": "stdout",
     "output_type": "stream",
     "text": [
      "\n",
      "For dataset1\n",
      "Iteration :4\n",
      "Cluster 0 size :50\n",
      "Centroid [x=2.5737264423871213, y=-0.027462568841232993]\n",
      "Cluster 1 size :50\n",
      "Centroid [x=-0.4633368646347212, y=-0.46611409698195794]\n",
      "Cluster 2 size :50\n",
      "Centroid [x=0.9888766205736857, y=2.010478965197201]\n",
      "\n",
      "For dataset2\n",
      "Iteration :3\n",
      "Cluster 0 size :102\n",
      "Centroid [x=1.2708406269481844, y=-0.08583389704900128]\n",
      "Cluster 1 size :98\n",
      "Centroid [x=-0.2018593506236788, y=0.5726963240559535]\n"
     ]
    }
   ],
   "source": [
    "k = KMeans()\n",
    "#========================#\n",
    "# STRART YOUR CODE HERE  #\n",
    "#========================#\n",
    "k.main(\"data/dataset1.txt\")\n",
    "k.main(\"data/dataset2.txt\")\n",
    "#========================#\n",
    "#   END YOUR CODE HERE   #\n",
    "#========================# "
   ]
  },
  {
   "attachments": {},
   "cell_type": "markdown",
   "metadata": {},
   "source": [
    "### 2.2 Purity and NMI Evaluation"
   ]
  },
  {
   "attachments": {},
   "cell_type": "markdown",
   "metadata": {},
   "source": [
    "Complete the `compute_purity` function in `KMeans.py`. \n",
    "\n",
    "In order to compute NMI, you need to firstly compute NMI matrix and then do the calculation. That is to complete the `getNMIMatrix` and `calcNMI` functions in `KMeans.py`.\n",
    "\n",
    "Print out the purity and NMI for each dataset respectively."
   ]
  },
  {
   "cell_type": "code",
   "execution_count": 24,
   "metadata": {},
   "outputs": [
    {
     "name": "stdout",
     "output_type": "stream",
     "text": [
      "\n",
      "For dataset1\n",
      "Iteration :4\n",
      "Purity is 1.000000\n",
      "NMI is 1.000000\n",
      "Cluster 0 size :50\n",
      "Centroid [x=2.5737264423871213, y=-0.027462568841232993]\n",
      "Cluster 1 size :50\n",
      "Centroid [x=-0.4633368646347212, y=-0.46611409698195794]\n",
      "Cluster 2 size :50\n",
      "Centroid [x=0.9888766205736857, y=2.010478965197201]\n",
      "\n",
      "For dataset2\n",
      "Iteration :3\n",
      "Purity is 0.760000\n",
      "NMI is 0.205096\n",
      "Cluster 0 size :102\n",
      "Centroid [x=1.2708406269481844, y=-0.08583389704900128]\n",
      "Cluster 1 size :98\n",
      "Centroid [x=-0.2018593506236788, y=0.5726963240559535]\n"
     ]
    }
   ],
   "source": [
    "k = KMeans()\n",
    "#========================#\n",
    "# STRART YOUR CODE HERE  #\n",
    "#========================#\n",
    "k.main(\"data/dataset1.txt\", isevaluate=True)\n",
    "k.main(\"data/dataset2.txt\", isevaluate=True)\n",
    "#========================#\n",
    "#   END YOUR CODE HERE   #\n",
    "#========================# "
   ]
  },
  {
   "attachments": {},
   "cell_type": "markdown",
   "metadata": {},
   "source": [
    "### 2.3 Visualization"
   ]
  },
  {
   "attachments": {},
   "cell_type": "markdown",
   "metadata": {},
   "source": [
    "The clustering results for KMeans are saved as `KMeans_dataset1.csv` and `KMeans_dataset2.csv` respectively under your root folder. Plot the clustering results for the two datasets, with different colors representing different clusters."
   ]
  },
  {
   "cell_type": "code",
   "execution_count": 11,
   "metadata": {},
   "outputs": [
    {
     "data": {
      "image/png": "[encoded data removed]",
      "text/plain": [
       "<Figure size 1500x600 with 2 Axes>"
      ]
     },
     "metadata": {},
     "output_type": "display_data"
    }
   ],
   "source": [
    "CSV_FILE_PATH1 = 'Kmeans_dataset1.csv'\n",
    "CSV_FILE_PATH2 = 'Kmeans_dataset2.csv'\n",
    "\n",
    "df1 = pd.read_csv(CSV_FILE_PATH1,header=None,names=['x','y','pred'])\n",
    "df2 = pd.read_csv(CSV_FILE_PATH2,header=None,names=['x','y','pred'])\n",
    "fig, [ax0,ax1] = plt.subplots(1, 2, figsize=(15, 6))\n",
    "ax0.title.set_text(\"KMeans_Dataset1\")\n",
    "ax1.title.set_text(\"KMeans_Dataset2\")\n",
    "\n",
    "#========================#\n",
    "# STRART YOUR CODE HERE  #\n",
    "#========================#\n",
    "def create_plot(df, ax):\n",
    "    df_0 = df.loc[df.iloc[:, 2]==0]\n",
    "    df_1 = df.loc[df.iloc[:, 2]==1]\n",
    "    df_2 = df.loc[df.iloc[:, 2]==2]\n",
    "    df_3 = df.loc[df.iloc[:, 2]==3]\n",
    "    ax.scatter(df_0.iloc[:, 0], df_0.iloc[:, 1])\n",
    "    ax.scatter(df_1.iloc[:, 0], df_1.iloc[:, 1])\n",
    "    ax.scatter(df_2.iloc[:, 0], df_2.iloc[:, 1])\n",
    "    ax.scatter(df_3.iloc[:, 0], df_3.iloc[:, 1])\n",
    "\n",
    "create_plot(df1, ax0)\n",
    "create_plot(df2, ax1)\n",
    "\n",
    "#========================#\n",
    "#   END YOUR CODE HERE   #\n",
    "#========================# \n",
    "plt.show()\n",
    "    "
   ]
  },
  {
   "attachments": {},
   "cell_type": "markdown",
   "metadata": {},
   "source": [
    "**Question** \n"
   ]
  },
  {
   "attachments": {},
   "cell_type": "markdown",
   "metadata": {},
   "source": [
    "Give the pros and cons of K-means algorithm. (At least one for pro and two for cons to get full marks)\n"
   ]
  },
  {
   "attachments": {},
   "cell_type": "markdown",
   "metadata": {},
   "source": [
    "**Your answer here**\n"
   ]
  },
  {
   "attachments": {},
   "cell_type": "markdown",
   "metadata": {},
   "source": [
    "<span style=\"color:blue\"> Please type your answer here! </span>"
   ]
  },
  {
   "attachments": {},
   "cell_type": "markdown",
   "metadata": {},
   "source": [
    "Pros:"
   ]
  },
  {
   "attachments": {},
   "cell_type": "markdown",
   "metadata": {},
   "source": [
    "This algorithm is very efficient, and its complexity is linear in n (number of datapoints). Specifically, it has O(ktn), where k is number of clusters and t is the number of iterations, and k, t << n."
   ]
  },
  {
   "attachments": {},
   "cell_type": "markdown",
   "metadata": {},
   "source": [
    "Cons:"
   ]
  },
  {
   "attachments": {},
   "cell_type": "markdown",
   "metadata": {},
   "source": [
    "1.\n",
    "This algorithm is not suitable to discover clusters with non-convex shape; for example, in dataset2, k-Means cannot efficiently classify the two curved clusters.\n",
    "\n",
    "2.\n",
    "Since we use the mean as center, this algorithm is sensitive to outliers and noisy data. \n",
    "\n",
    "3.\n",
    "The algorithm requires us to set k (number of clusters) at first."
   ]
  },
  {
   "attachments": {},
   "cell_type": "markdown",
   "metadata": {},
   "source": [
    "## 3 DBSCAN"
   ]
  },
  {
   "attachments": {},
   "cell_type": "markdown",
   "metadata": {},
   "source": [
    "In this section, we are going to use DBSCAN for clustering the same two datasets. \n",
    "\n"
   ]
  },
  {
   "attachments": {},
   "cell_type": "markdown",
   "metadata": {},
   "source": [
    "### 3.1 Coding DBSCAN"
   ]
  },
  {
   "cell_type": "code",
   "execution_count": 1,
   "metadata": {},
   "outputs": [
    {
     "name": "stdout",
     "output_type": "stream",
     "text": [
      "Dataset transferred successfully from TXT to CSV!\n"
     ]
    }
   ],
   "source": [
    "import csv\n",
    "\n",
    "txt_file = \"data/dataset1.txt\"\n",
    "csv_file = \"data/dataset1.csv\"\n",
    "\n",
    "# Read data from the TXT file\n",
    "with open(txt_file, 'r') as file:\n",
    "    data = file.readlines()\n",
    "\n",
    "# Process the data and convert it to a list of lists\n",
    "dataset = [line.strip().split() for line in data]\n",
    "\n",
    "# Write the data to the CSV file\n",
    "with open(csv_file, 'w', newline='') as file:\n",
    "    writer = csv.writer(file)\n",
    "    writer.writerows(dataset)\n",
    "\n",
    "print(\"Dataset transferred successfully from TXT to CSV!\")\n"
   ]
  },
  {
   "cell_type": "code",
   "execution_count": 2,
   "metadata": {},
   "outputs": [
    {
     "data": {
      "image/png": "[encoded data removed]",
      "text/plain": [
       "<Figure size 640x480 with 1 Axes>"
      ]
     },
     "metadata": {},
     "output_type": "display_data"
    }
   ],
   "source": [
    "import matplotlib.pyplot as plt\n",
    "\n",
    "csv_file = \"data/dataset1.csv\"\n",
    "\n",
    "# Read data from the CSV file\n",
    "with open(csv_file, 'r') as file:\n",
    "    reader = csv.reader(file)\n",
    "    dataset = list(reader)\n",
    "\n",
    "# Extract x and y coordinates from the dataset\n",
    "x = [float(row[0]) for row in dataset]\n",
    "y = [float(row[1]) for row in dataset]\n",
    "\n",
    "# Create a scatter plot\n",
    "plt.scatter(x, y)\n",
    "plt.title(\"Clustering Dataset\")\n",
    "plt.xlabel(\"X\")\n",
    "plt.ylabel(\"Y\")\n",
    "plt.show()"
   ]
  },
  {
   "attachments": {},
   "cell_type": "markdown",
   "metadata": {},
   "source": [
    "Complete the `dbscan` function in `DBSCAN.py`. Print out the purity, NMI and cluter size for each dataset respectively."
   ]
  },
  {
   "cell_type": "code",
   "execution_count": 3,
   "metadata": {
    "scrolled": true
   },
   "outputs": [
    {
     "name": "stdout",
     "output_type": "stream",
     "text": [
      "\n",
      "For dataset1\n",
      "Esp :0.3560832705047313\n",
      "Number of clusters formed :4\n",
      "Noise points :11\n",
      "Noise:  {<hw4code.DataPoints.DataPoints object at 0x11ec7ae20>, <hw4code.DataPoints.DataPoints object at 0x11ec79d60>, <hw4code.DataPoints.DataPoints object at 0x11ec7a340>, <hw4code.DataPoints.DataPoints object at 0x11ec7a0a0>, <hw4code.DataPoints.DataPoints object at 0x11ec79040>, <hw4code.DataPoints.DataPoints object at 0x11ec7ad00>, <hw4code.DataPoints.DataPoints object at 0x11ec7a280>, <hw4code.DataPoints.DataPoints object at 0x11ec79940>, <hw4code.DataPoints.DataPoints object at 0x11ec79fa0>, <hw4code.DataPoints.DataPoints object at 0x11ec748e0>, <hw4code.DataPoints.DataPoints object at 0x11ec7a100>}\n",
      "Clusters [{<hw4code.DataPoints.DataPoints object at 0x11ec74160>, <hw4code.DataPoints.DataPoints object at 0x11ec741c0>, <hw4code.DataPoints.DataPoints object at 0x11ec74700>, <hw4code.DataPoints.DataPoints object at 0x11ec743a0>, <hw4code.DataPoints.DataPoints object at 0x11ec74940>, <hw4code.DataPoints.DataPoints object at 0x11ec74340>, <hw4code.DataPoints.DataPoints object at 0x11ec74ac0>, <hw4code.DataPoints.DataPoints object at 0x10ea63460>, <hw4code.DataPoints.DataPoints object at 0x10ea63b80>, <hw4code.DataPoints.DataPoints object at 0x11ec74a00>, <hw4code.DataPoints.DataPoints object at 0x10e9c3580>, <hw4code.DataPoints.DataPoints object at 0x11ec742e0>, <hw4code.DataPoints.DataPoints object at 0x11ec74460>, <hw4code.DataPoints.DataPoints object at 0x11d7186a0>, <hw4code.DataPoints.DataPoints object at 0x10ea630a0>, <hw4code.DataPoints.DataPoints object at 0x11ec746a0>, <hw4code.DataPoints.DataPoints object at 0x11ec744c0>, <hw4code.DataPoints.DataPoints object at 0x11ec74520>, <hw4code.DataPoints.DataPoints object at 0x11ec747c0>, <hw4code.DataPoints.DataPoints object at 0x10ea63b20>, <hw4code.DataPoints.DataPoints object at 0x11ec74100>, <hw4code.DataPoints.DataPoints object at 0x11ec5de80>, <hw4code.DataPoints.DataPoints object at 0x11ec740a0>, <hw4code.DataPoints.DataPoints object at 0x11ec74a60>, <hw4code.DataPoints.DataPoints object at 0x11ec5ddc0>, <hw4code.DataPoints.DataPoints object at 0x11ec5dca0>, <hw4code.DataPoints.DataPoints object at 0x11ec5de20>, <hw4code.DataPoints.DataPoints object at 0x11ec5dd60>, <hw4code.DataPoints.DataPoints object at 0x10e91af10>, <hw4code.DataPoints.DataPoints object at 0x11ec5db20>, <hw4code.DataPoints.DataPoints object at 0x11ec74760>, <hw4code.DataPoints.DataPoints object at 0x11ec5dd00>, <hw4code.DataPoints.DataPoints object at 0x11ec745e0>, <hw4code.DataPoints.DataPoints object at 0x11ec5dee0>, <hw4code.DataPoints.DataPoints object at 0x10ea63ac0>, <hw4code.DataPoints.DataPoints object at 0x11ec74280>, <hw4code.DataPoints.DataPoints object at 0x11ec74880>, <hw4code.DataPoints.DataPoints object at 0x11ec74580>, <hw4code.DataPoints.DataPoints object at 0x11ec74040>, <hw4code.DataPoints.DataPoints object at 0x11ec749a0>, <hw4code.DataPoints.DataPoints object at 0x11ec5dbe0>, <hw4code.DataPoints.DataPoints object at 0x10ea00190>, <hw4code.DataPoints.DataPoints object at 0x11ec74820>, <hw4code.DataPoints.DataPoints object at 0x11ec74400>, <hw4code.DataPoints.DataPoints object at 0x11ec74220>, <hw4code.DataPoints.DataPoints object at 0x11ec5dfa0>, <hw4code.DataPoints.DataPoints object at 0x11ec5df40>, <hw4code.DataPoints.DataPoints object at 0x11ec5dc40>, <hw4code.DataPoints.DataPoints object at 0x11ec74640>}, {<hw4code.DataPoints.DataPoints object at 0x11ec7adc0>, <hw4code.DataPoints.DataPoints object at 0x11ec7abe0>, <hw4code.DataPoints.DataPoints object at 0x11ec7a400>, <hw4code.DataPoints.DataPoints object at 0x11ec7af40>, <hw4code.DataPoints.DataPoints object at 0x11ec79e20>, <hw4code.DataPoints.DataPoints object at 0x11ec79ee0>, <hw4code.DataPoints.DataPoints object at 0x11ec7a760>, <hw4code.DataPoints.DataPoints object at 0x11ec79f40>, <hw4code.DataPoints.DataPoints object at 0x11ec7a160>, <hw4code.DataPoints.DataPoints object at 0x11ec7a4c0>, <hw4code.DataPoints.DataPoints object at 0x11ec7a820>, <hw4code.DataPoints.DataPoints object at 0x11ec7a6a0>, <hw4code.DataPoints.DataPoints object at 0x11ec7d0a0>, <hw4code.DataPoints.DataPoints object at 0x11ec7aac0>, <hw4code.DataPoints.DataPoints object at 0x11ec7ae80>, <hw4code.DataPoints.DataPoints object at 0x11ec7ab20>, <hw4code.DataPoints.DataPoints object at 0x11ec7a1c0>, <hw4code.DataPoints.DataPoints object at 0x11ec7ab80>, <hw4code.DataPoints.DataPoints object at 0x11ec7ac40>, <hw4code.DataPoints.DataPoints object at 0x11ec7ad60>, <hw4code.DataPoints.DataPoints object at 0x11ec7a220>, <hw4code.DataPoints.DataPoints object at 0x11ec7a8e0>, <hw4code.DataPoints.DataPoints object at 0x11ec7a520>, <hw4code.DataPoints.DataPoints object at 0x11ec7a880>, <hw4code.DataPoints.DataPoints object at 0x11ec7a940>, <hw4code.DataPoints.DataPoints object at 0x11ec7afa0>, <hw4code.DataPoints.DataPoints object at 0x11ec7d040>, <hw4code.DataPoints.DataPoints object at 0x11ec79e80>, <hw4code.DataPoints.DataPoints object at 0x11ec7aee0>, <hw4code.DataPoints.DataPoints object at 0x11ec7a9a0>, <hw4code.DataPoints.DataPoints object at 0x11ec7aa00>, <hw4code.DataPoints.DataPoints object at 0x11ec7a040>, <hw4code.DataPoints.DataPoints object at 0x11ec7aa60>, <hw4code.DataPoints.DataPoints object at 0x11ec7a3a0>, <hw4code.DataPoints.DataPoints object at 0x11ec7a2e0>, <hw4code.DataPoints.DataPoints object at 0x11ec7a640>, <hw4code.DataPoints.DataPoints object at 0x11ec7a7c0>, <hw4code.DataPoints.DataPoints object at 0x11ec7a5e0>, <hw4code.DataPoints.DataPoints object at 0x11ec7a460>, <hw4code.DataPoints.DataPoints object at 0x11ec7d100>, <hw4code.DataPoints.DataPoints object at 0x11ec7aca0>}, {<hw4code.DataPoints.DataPoints object at 0x11ec74d00>, <hw4code.DataPoints.DataPoints object at 0x11ec74c40>, <hw4code.DataPoints.DataPoints object at 0x11ec796a0>, <hw4code.DataPoints.DataPoints object at 0x11ec74d60>, <hw4code.DataPoints.DataPoints object at 0x11ec792e0>, <hw4code.DataPoints.DataPoints object at 0x11ec79580>, <hw4code.DataPoints.DataPoints object at 0x11ec74be0>, <hw4code.DataPoints.DataPoints object at 0x11ec79520>, <hw4code.DataPoints.DataPoints object at 0x11ec74e80>, <hw4code.DataPoints.DataPoints object at 0x11ec79820>, <hw4code.DataPoints.DataPoints object at 0x11ec79b20>, <hw4code.DataPoints.DataPoints object at 0x11ec798e0>, <hw4code.DataPoints.DataPoints object at 0x11ec79be0>, <hw4code.DataPoints.DataPoints object at 0x11ec793a0>, <hw4code.DataPoints.DataPoints object at 0x11ec74ca0>, <hw4code.DataPoints.DataPoints object at 0x11ec74f40>, <hw4code.DataPoints.DataPoints object at 0x11ec79220>, <hw4code.DataPoints.DataPoints object at 0x11ec74b80>, <hw4code.DataPoints.DataPoints object at 0x11ec79400>, <hw4code.DataPoints.DataPoints object at 0x11ec79700>, <hw4code.DataPoints.DataPoints object at 0x11ec74e20>, <hw4code.DataPoints.DataPoints object at 0x11ec791c0>, <hw4code.DataPoints.DataPoints object at 0x11ec79ac0>, <hw4code.DataPoints.DataPoints object at 0x11ec74b20>, <hw4code.DataPoints.DataPoints object at 0x11ec79160>, <hw4code.DataPoints.DataPoints object at 0x11ec79100>, <hw4code.DataPoints.DataPoints object at 0x11ec79dc0>, <hw4code.DataPoints.DataPoints object at 0x11ec79d00>, <hw4code.DataPoints.DataPoints object at 0x11ec79640>, <hw4code.DataPoints.DataPoints object at 0x11ec794c0>, <hw4code.DataPoints.DataPoints object at 0x11ec79280>, <hw4code.DataPoints.DataPoints object at 0x11ec79340>, <hw4code.DataPoints.DataPoints object at 0x11ec79a00>, <hw4code.DataPoints.DataPoints object at 0x11ec79ca0>, <hw4code.DataPoints.DataPoints object at 0x11ec79b80>, <hw4code.DataPoints.DataPoints object at 0x11ec79460>, <hw4code.DataPoints.DataPoints object at 0x11ec79a60>, <hw4code.DataPoints.DataPoints object at 0x11ec790a0>, <hw4code.DataPoints.DataPoints object at 0x11ec79760>, <hw4code.DataPoints.DataPoints object at 0x11ec79c40>, <hw4code.DataPoints.DataPoints object at 0x11ec74fa0>, <hw4code.DataPoints.DataPoints object at 0x11ec74ee0>, <hw4code.DataPoints.DataPoints object at 0x11ec799a0>, <hw4code.DataPoints.DataPoints object at 0x11ec797c0>, <hw4code.DataPoints.DataPoints object at 0x11ec74dc0>, <hw4code.DataPoints.DataPoints object at 0x11ec79880>, <hw4code.DataPoints.DataPoints object at 0x11ec795e0>}, {<hw4code.DataPoints.DataPoints object at 0x11ec7ae20>, <hw4code.DataPoints.DataPoints object at 0x11ec7a700>, <hw4code.DataPoints.DataPoints object at 0x11ec7a100>, <hw4code.DataPoints.DataPoints object at 0x11ec7a580>}]\n",
      "Purity is 0.940000\n",
      "NMI is 0.959065\n",
      "Cluster 0 size :49\n",
      "Cluster 1 size :41\n",
      "Cluster 2 size :47\n",
      "Cluster 3 size :4\n",
      "\n",
      "For dataset2\n",
      "Esp :0.18652096476712493\n",
      "Number of clusters formed :3\n",
      "Noise points :3\n",
      "Noise:  {<hw4code.DataPoints.DataPoints object at 0x11ec7d220>, <hw4code.DataPoints.DataPoints object at 0x11ec7f8e0>, <hw4code.DataPoints.DataPoints object at 0x11ec8b0a0>}\n",
      "Clusters [{<hw4code.DataPoints.DataPoints object at 0x11ec88880>, <hw4code.DataPoints.DataPoints object at 0x11ec8b2e0>, <hw4code.DataPoints.DataPoints object at 0x11ec8b820>, <hw4code.DataPoints.DataPoints object at 0x11ec76b20>, <hw4code.DataPoints.DataPoints object at 0x11ec88340>, <hw4code.DataPoints.DataPoints object at 0x11ec88100>, <hw4code.DataPoints.DataPoints object at 0x11ec8b160>, <hw4code.DataPoints.DataPoints object at 0x11ec767c0>, <hw4code.DataPoints.DataPoints object at 0x11ec88280>, <hw4code.DataPoints.DataPoints object at 0x11ec76e20>, <hw4code.DataPoints.DataPoints object at 0x11ec885e0>, <hw4code.DataPoints.DataPoints object at 0x11ec76dc0>, <hw4code.DataPoints.DataPoints object at 0x11ec88fa0>, <hw4code.DataPoints.DataPoints object at 0x11ec8ba60>, <hw4code.DataPoints.DataPoints object at 0x11ec76f40>, <hw4code.DataPoints.DataPoints object at 0x11ec76940>, <hw4code.DataPoints.DataPoints object at 0x11ec8b640>, <hw4code.DataPoints.DataPoints object at 0x11ec8b9a0>, <hw4code.DataPoints.DataPoints object at 0x11ec881c0>, <hw4code.DataPoints.DataPoints object at 0x11ec88dc0>, <hw4code.DataPoints.DataPoints object at 0x11ec769a0>, <hw4code.DataPoints.DataPoints object at 0x11ec8bb20>, <hw4code.DataPoints.DataPoints object at 0x11ec76760>, <hw4code.DataPoints.DataPoints object at 0x11ec887c0>, <hw4code.DataPoints.DataPoints object at 0x11ec88160>, <hw4code.DataPoints.DataPoints object at 0x11ec882e0>, <hw4code.DataPoints.DataPoints object at 0x11ec88e20>, <hw4code.DataPoints.DataPoints object at 0x11ec8b220>, <hw4code.DataPoints.DataPoints object at 0x11ec88820>, <hw4code.DataPoints.DataPoints object at 0x11ec8b7c0>, <hw4code.DataPoints.DataPoints object at 0x11ec88c40>, <hw4code.DataPoints.DataPoints object at 0x11ec88640>, <hw4code.DataPoints.DataPoints object at 0x11ec76880>, <hw4code.DataPoints.DataPoints object at 0x11ec88b80>, <hw4code.DataPoints.DataPoints object at 0x11ec76820>, <hw4code.DataPoints.DataPoints object at 0x11ec8bb80>, <hw4code.DataPoints.DataPoints object at 0x11ec8b760>, <hw4code.DataPoints.DataPoints object at 0x11ec88ac0>, <hw4code.DataPoints.DataPoints object at 0x11ec8bca0>, <hw4code.DataPoints.DataPoints object at 0x11ec888e0>, <hw4code.DataPoints.DataPoints object at 0x11ec88e80>, <hw4code.DataPoints.DataPoints object at 0x11ec8b100>, <hw4code.DataPoints.DataPoints object at 0x11ec88400>, <hw4code.DataPoints.DataPoints object at 0x11ec8b280>, <hw4code.DataPoints.DataPoints object at 0x11ec76d60>, <hw4code.DataPoints.DataPoints object at 0x11ec88520>, <hw4code.DataPoints.DataPoints object at 0x11ec88700>, <hw4code.DataPoints.DataPoints object at 0x11ec8b460>, <hw4code.DataPoints.DataPoints object at 0x11ec8b8e0>, <hw4code.DataPoints.DataPoints object at 0x11ec76d00>, <hw4code.DataPoints.DataPoints object at 0x11ec8b520>, <hw4code.DataPoints.DataPoints object at 0x11ec8b4c0>, <hw4code.DataPoints.DataPoints object at 0x11ec768e0>, <hw4code.DataPoints.DataPoints object at 0x11ec8b940>, <hw4code.DataPoints.DataPoints object at 0x11ec88b20>, <hw4code.DataPoints.DataPoints object at 0x11ec88460>, <hw4code.DataPoints.DataPoints object at 0x11ec8bc40>, <hw4code.DataPoints.DataPoints object at 0x11ec8b340>, <hw4code.DataPoints.DataPoints object at 0x11ec889a0>, <hw4code.DataPoints.DataPoints object at 0x11ec76a60>, <hw4code.DataPoints.DataPoints object at 0x11ec88a00>, <hw4code.DataPoints.DataPoints object at 0x11ec8bac0>, <hw4code.DataPoints.DataPoints object at 0x11ec8b1c0>, <hw4code.DataPoints.DataPoints object at 0x11ec8b3a0>, <hw4code.DataPoints.DataPoints object at 0x11ec8b880>, <hw4code.DataPoints.DataPoints object at 0x11ec88d60>, <hw4code.DataPoints.DataPoints object at 0x11ec884c0>, <hw4code.DataPoints.DataPoints object at 0x11ec88580>, <hw4code.DataPoints.DataPoints object at 0x11ec88940>, <hw4code.DataPoints.DataPoints object at 0x11ec8b400>, <hw4code.DataPoints.DataPoints object at 0x11ec8b6a0>, <hw4code.DataPoints.DataPoints object at 0x11ec76a00>, <hw4code.DataPoints.DataPoints object at 0x11ec8b5e0>, <hw4code.DataPoints.DataPoints object at 0x11ec886a0>, <hw4code.DataPoints.DataPoints object at 0x11ec88ca0>, <hw4code.DataPoints.DataPoints object at 0x11ec88a60>, <hw4code.DataPoints.DataPoints object at 0x11ec76ee0>, <hw4code.DataPoints.DataPoints object at 0x11ec8bd00>, <hw4code.DataPoints.DataPoints object at 0x11ec8b580>, <hw4code.DataPoints.DataPoints object at 0x11ec880a0>, <hw4code.DataPoints.DataPoints object at 0x11ec8ba00>, <hw4code.DataPoints.DataPoints object at 0x11ec76ca0>, <hw4code.DataPoints.DataPoints object at 0x11ec88be0>, <hw4code.DataPoints.DataPoints object at 0x11ec88d00>, <hw4code.DataPoints.DataPoints object at 0x11ec76fa0>, <hw4code.DataPoints.DataPoints object at 0x11ec76ac0>, <hw4code.DataPoints.DataPoints object at 0x11ec883a0>, <hw4code.DataPoints.DataPoints object at 0x11ec8bbe0>, <hw4code.DataPoints.DataPoints object at 0x11ec88040>, <hw4code.DataPoints.DataPoints object at 0x11ec88220>, <hw4code.DataPoints.DataPoints object at 0x11ec88ee0>, <hw4code.DataPoints.DataPoints object at 0x11ec88760>, <hw4code.DataPoints.DataPoints object at 0x11ec76be0>, <hw4code.DataPoints.DataPoints object at 0x11ec76c40>, <hw4code.DataPoints.DataPoints object at 0x11ec76b80>, <hw4code.DataPoints.DataPoints object at 0x11ec76e80>, <hw4code.DataPoints.DataPoints object at 0x11ec8b040>, <hw4code.DataPoints.DataPoints object at 0x11ec88f40>, <hw4code.DataPoints.DataPoints object at 0x11ec8b700>}, {<hw4code.DataPoints.DataPoints object at 0x11ec76640>, <hw4code.DataPoints.DataPoints object at 0x11ec7d5e0>, <hw4code.DataPoints.DataPoints object at 0x11ec7dc40>, <hw4code.DataPoints.DataPoints object at 0x11ec7f520>, <hw4code.DataPoints.DataPoints object at 0x11ec760a0>, <hw4code.DataPoints.DataPoints object at 0x11ec7fe20>, <hw4code.DataPoints.DataPoints object at 0x11ec7d3a0>, <hw4code.DataPoints.DataPoints object at 0x11ec7d280>, <hw4code.DataPoints.DataPoints object at 0x11ec7f0a0>, <hw4code.DataPoints.DataPoints object at 0x11ec76100>, <hw4code.DataPoints.DataPoints object at 0x11ec7d520>, <hw4code.DataPoints.DataPoints object at 0x11ec76460>, <hw4code.DataPoints.DataPoints object at 0x11ec7f4c0>, <hw4code.DataPoints.DataPoints object at 0x11ec7fa00>, <hw4code.DataPoints.DataPoints object at 0x11ec762e0>, <hw4code.DataPoints.DataPoints object at 0x11ec7de20>, <hw4code.DataPoints.DataPoints object at 0x11ec76280>, <hw4code.DataPoints.DataPoints object at 0x11ec7f160>, <hw4code.DataPoints.DataPoints object at 0x11ec76520>, <hw4code.DataPoints.DataPoints object at 0x11ec7d400>, <hw4code.DataPoints.DataPoints object at 0x11ec7f760>, <hw4code.DataPoints.DataPoints object at 0x11ec7d580>, <hw4code.DataPoints.DataPoints object at 0x11ec7f7c0>, <hw4code.DataPoints.DataPoints object at 0x11ec7da00>, <hw4code.DataPoints.DataPoints object at 0x11ec7f940>, <hw4code.DataPoints.DataPoints object at 0x11ec7dca0>, <hw4code.DataPoints.DataPoints object at 0x11ec7fe80>, <hw4code.DataPoints.DataPoints object at 0x11ec76400>, <hw4code.DataPoints.DataPoints object at 0x11ec7f400>, <hw4code.DataPoints.DataPoints object at 0x11ec7de80>, <hw4code.DataPoints.DataPoints object at 0x11ec7d340>, <hw4code.DataPoints.DataPoints object at 0x11ec7fa60>, <hw4code.DataPoints.DataPoints object at 0x11ec7d700>, <hw4code.DataPoints.DataPoints object at 0x11ec76220>, <hw4code.DataPoints.DataPoints object at 0x11ec7f3a0>, <hw4code.DataPoints.DataPoints object at 0x11ec76340>, <hw4code.DataPoints.DataPoints object at 0x11ec7f700>, <hw4code.DataPoints.DataPoints object at 0x11ec7d880>, <hw4code.DataPoints.DataPoints object at 0x11ec76160>, <hw4code.DataPoints.DataPoints object at 0x11ec7d640>, <hw4code.DataPoints.DataPoints object at 0x11ec7fb80>, <hw4code.DataPoints.DataPoints object at 0x11ec7fdc0>, <hw4code.DataPoints.DataPoints object at 0x11ec7dee0>, <hw4code.DataPoints.DataPoints object at 0x11ec7d6a0>, <hw4code.DataPoints.DataPoints object at 0x11ec7f820>, <hw4code.DataPoints.DataPoints object at 0x11ec76040>, <hw4code.DataPoints.DataPoints object at 0x11ec7fd00>, <hw4code.DataPoints.DataPoints object at 0x11ec763a0>, <hw4code.DataPoints.DataPoints object at 0x11ec761c0>, <hw4code.DataPoints.DataPoints object at 0x11ec7ffa0>, <hw4code.DataPoints.DataPoints object at 0x11ec7f5e0>}, {<hw4code.DataPoints.DataPoints object at 0x11ec7d940>, <hw4code.DataPoints.DataPoints object at 0x11ec7db20>, <hw4code.DataPoints.DataPoints object at 0x11ec7fc40>, <hw4code.DataPoints.DataPoints object at 0x11ec7fac0>, <hw4code.DataPoints.DataPoints object at 0x11ec7dd60>, <hw4code.DataPoints.DataPoints object at 0x11ec7dd00>, <hw4code.DataPoints.DataPoints object at 0x11ec7df40>, <hw4code.DataPoints.DataPoints object at 0x11ec7d460>, <hw4code.DataPoints.DataPoints object at 0x11ec7da60>, <hw4code.DataPoints.DataPoints object at 0x11ec7f280>, <hw4code.DataPoints.DataPoints object at 0x11ec7d7c0>, <hw4code.DataPoints.DataPoints object at 0x11ec7d9a0>, <hw4code.DataPoints.DataPoints object at 0x11ec7f1c0>, <hw4code.DataPoints.DataPoints object at 0x11ec7d760>, <hw4code.DataPoints.DataPoints object at 0x11ec7fee0>, <hw4code.DataPoints.DataPoints object at 0x11ec7dac0>, <hw4code.DataPoints.DataPoints object at 0x11ec7f9a0>, <hw4code.DataPoints.DataPoints object at 0x11ec7f640>, <hw4code.DataPoints.DataPoints object at 0x11ec7f340>, <hw4code.DataPoints.DataPoints object at 0x11ec7d2e0>, <hw4code.DataPoints.DataPoints object at 0x11ec76580>, <hw4code.DataPoints.DataPoints object at 0x11ec7f100>, <hw4code.DataPoints.DataPoints object at 0x11ec7f460>, <hw4code.DataPoints.DataPoints object at 0x11ec7dfa0>, <hw4code.DataPoints.DataPoints object at 0x11ec7fca0>, <hw4code.DataPoints.DataPoints object at 0x11ec7d4c0>, <hw4code.DataPoints.DataPoints object at 0x11ec765e0>, <hw4code.DataPoints.DataPoints object at 0x11ec766a0>, <hw4code.DataPoints.DataPoints object at 0x11ec7d8e0>, <hw4code.DataPoints.DataPoints object at 0x11ec7f580>, <hw4code.DataPoints.DataPoints object at 0x11ec764c0>, <hw4code.DataPoints.DataPoints object at 0x11ec7f6a0>, <hw4code.DataPoints.DataPoints object at 0x11ec76700>, <hw4code.DataPoints.DataPoints object at 0x11ec7d1c0>, <hw4code.DataPoints.DataPoints object at 0x11ec7fd60>, <hw4code.DataPoints.DataPoints object at 0x11ec7f880>, <hw4code.DataPoints.DataPoints object at 0x11ec7ff40>, <hw4code.DataPoints.DataPoints object at 0x11ec7ddc0>, <hw4code.DataPoints.DataPoints object at 0x11ec7dbe0>, <hw4code.DataPoints.DataPoints object at 0x11ec7fb20>, <hw4code.DataPoints.DataPoints object at 0x11ec7f2e0>, <hw4code.DataPoints.DataPoints object at 0x104770880>, <hw4code.DataPoints.DataPoints object at 0x11ec7db80>, <hw4code.DataPoints.DataPoints object at 0x11ec7f220>, <hw4code.DataPoints.DataPoints object at 0x11ec7f040>, <hw4code.DataPoints.DataPoints object at 0x11ec7fbe0>, <hw4code.DataPoints.DataPoints object at 0x11ec7d820>}]\n",
      "Purity is 0.985000\n",
      "NMI is 0.817349\n",
      "Cluster 0 size :99\n",
      "Cluster 1 size :51\n",
      "Cluster 2 size :47\n"
     ]
    }
   ],
   "source": [
    "from hw4code.DBSCAN import DBSCAN\n",
    "d = DBSCAN()\n",
    "#========================#\n",
    "# STRART YOUR CODE HERE  #\n",
    "#========================#\n",
    "d.main(\"data/dataset1.txt\")\n",
    "d.main(\"data/dataset2.txt\")\n",
    "#========================#\n",
    "#   END YOUR CODE HERE   #\n",
    "#========================# "
   ]
  },
  {
   "attachments": {},
   "cell_type": "markdown",
   "metadata": {},
   "source": [
    "### 3.2 Visualization"
   ]
  },
  {
   "attachments": {},
   "cell_type": "markdown",
   "metadata": {},
   "source": [
    "The clustering results for DBSCAN are saved as `DBSCAN_dataset1.csv` and `DBSCAN_dataset2.csv` respectively under your root folder. Plot the clustering results for the two datasets, with different colors representing different clusters."
   ]
  },
  {
   "cell_type": "code",
   "execution_count": 12,
   "metadata": {},
   "outputs": [
    {
     "data": {
      "image/png": "[encoded data removed]",
      "text/plain": [
       "<Figure size 1500x600 with 2 Axes>"
      ]
     },
     "metadata": {},
     "output_type": "display_data"
    }
   ],
   "source": [
    "CSV_FILE_PATH1 = 'DBSCAN_dataset1.csv'\n",
    "CSV_FILE_PATH2 = 'DBSCAN_dataset2.csv'\n",
    "\n",
    "df1 = pd.read_csv(CSV_FILE_PATH1,header=None,names=['x','y','pred'])\n",
    "df2 = pd.read_csv(CSV_FILE_PATH2,header=None,names=['x','y','pred'])\n",
    "fig, [ax0,ax1] = plt.subplots(1, 2, figsize=(15, 6))\n",
    "ax0.title.set_text(\"DBSCAN_Dataset1\")\n",
    "ax1.title.set_text(\"DBSCAN_Dataset2\")\n",
    "\n",
    "#========================#\n",
    "# STRART YOUR CODE HERE  #\n",
    "#========================#\n",
    "create_plot(df1, ax0)\n",
    "create_plot(df2, ax1)\n",
    "#========================#\n",
    "#   END YOUR CODE HERE   #\n",
    "#========================# \n",
    "plt.show()"
   ]
  },
  {
   "cell_type": "code",
   "execution_count": null,
   "metadata": {},
   "outputs": [],
   "source": [
    "import "
   ]
  },
  {
   "cell_type": "code",
   "execution_count": 13,
   "metadata": {},
   "outputs": [],
   "source": [
    "data = pd.read_csv(CSV_FILE_PATH1 )\n",
    "\n",
    "# Extract the coordinates and cluster labels\n",
    "X = data.iloc[:, :2]  # Extract the first two columns as coordinates\n",
    "labels = data.iloc[:, 2]  \n",
    "\n"
   ]
  },
  {
   "attachments": {},
   "cell_type": "markdown",
   "metadata": {},
   "source": [
    "**Question** \n"
   ]
  },
  {
   "attachments": {},
   "cell_type": "markdown",
   "metadata": {},
   "source": [
    "Give the pros and cons of DBSCAN algorithm. (At least two for pro and one for cons to get full marks)\n"
   ]
  },
  {
   "attachments": {},
   "cell_type": "markdown",
   "metadata": {},
   "source": [
    "**Your answer here**\n"
   ]
  },
  {
   "attachments": {},
   "cell_type": "markdown",
   "metadata": {},
   "source": [
    "<span style=\"color:blue\"> Please type your answer here! </span>"
   ]
  },
  {
   "attachments": {},
   "cell_type": "markdown",
   "metadata": {},
   "source": [
    "Pros:"
   ]
  },
  {
   "attachments": {},
   "cell_type": "markdown",
   "metadata": {},
   "source": [
    "1.\n",
    "It can efficiently detect and identify the noise/outliers in data, so the algorithm is robust to noises.\n",
    "\n",
    "2.\n",
    "It can discover non-convex or even arbitrary shape in clusters, as displayed in the classification result of dataset2."
   ]
  },
  {
   "attachments": {},
   "cell_type": "markdown",
   "metadata": {},
   "source": [
    "Cons:"
   ]
  },
  {
   "attachments": {},
   "cell_type": "markdown",
   "metadata": {},
   "source": [
    "This algorithm fails if clusters have varying density, since we have to set the minPoints as a hyperparameter before the algorithm starts."
   ]
  },
  {
   "attachments": {},
   "cell_type": "markdown",
   "metadata": {},
   "source": [
    "## 4 GMM"
   ]
  },
  {
   "attachments": {},
   "cell_type": "markdown",
   "metadata": {},
   "source": [
    "In this section, we are going to use GMM for clustering the same two datasets. \n",
    "\n"
   ]
  },
  {
   "attachments": {},
   "cell_type": "markdown",
   "metadata": {},
   "source": [
    "### 4.1 Coding GMM"
   ]
  },
  {
   "attachments": {},
   "cell_type": "markdown",
   "metadata": {},
   "source": [
    "Complete the `Estep` and 'Mstep' function in `GMM.py`. Print out the purity, NMI, final mean, covariance and cluter size for each dataset respectively."
   ]
  },
  {
   "cell_type": "code",
   "execution_count": 47,
   "metadata": {
    "scrolled": true
   },
   "outputs": [
    {
     "name": "stdout",
     "output_type": "stream",
     "text": [
      "\n",
      "For dataset1\n",
      "Number of Iterations = 22\n",
      "\n",
      "After Calculations\n",
      "Final mean = \n",
      "-0.46247285694404044 \n",
      "-0.4638749980764899 \n",
      "\n",
      "0.9898929396029765 \n",
      "2.011802723814242 \n",
      "\n",
      "2.57342634413319 \n",
      "-0.027108746076609493 \n",
      "\n",
      "\n",
      "Final covariance = \n",
      "For Cluster : 1\n",
      "0.14918910487220216 \n",
      "0.1173463005433889 \n",
      "\n",
      "0.1173463005433889 \n",
      "0.21554861253107502 \n",
      "\n",
      "\n",
      "For Cluster : 2\n",
      "0.16028233507625483 \n",
      "0.07486967581052754 \n",
      "\n",
      "0.07486967581052754 \n",
      "0.13939774162738802 \n",
      "\n",
      "\n",
      "For Cluster : 3\n",
      "0.18039223672749394 \n",
      "-0.04672614559811056 \n",
      "\n",
      "-0.04672614559811056 \n",
      "0.15206459963738583 \n",
      "\n",
      "\n",
      "Purity is 1.000000\n",
      "NMI is 1.000000\n",
      "Cluster 0 size :50\n",
      "Cluster 1 size :50\n",
      "Cluster 2 size :50\n",
      "\n",
      "For dataset2\n",
      "Number of Iterations = 95\n",
      "\n",
      "After Calculations\n",
      "Final mean = \n",
      "0.7464905663922623 \n",
      "0.4564966584854107 \n",
      "\n",
      "0.28287851889390975 \n",
      "-0.05970560727188754 \n",
      "\n",
      "\n",
      "Final covariance = \n",
      "For Cluster : 1\n",
      "0.769279076535834 \n",
      "-0.28782809642382134 \n",
      "\n",
      "-0.28782809642382134 \n",
      "0.1901249384356509 \n",
      "\n",
      "\n",
      "For Cluster : 2\n",
      "0.6828574757628691 \n",
      "-0.300589159943905 \n",
      "\n",
      "-0.300589159943905 \n",
      "0.17583559485120043 \n",
      "\n",
      "\n",
      "Purity is 0.690000\n",
      "NMI is 0.107406\n",
      "Cluster 0 size :106\n",
      "Cluster 1 size :94\n"
     ]
    }
   ],
   "source": [
    "from hw4code.GMM import GMM\n",
    "g = GMM()\n",
    "#========================#\n",
    "# STRART YOUR CODE HERE  #\n",
    "#========================#\n",
    "g.main(\"data/dataset1.txt\")\n",
    "g.main(\"data/dataset2.txt\")\n",
    "#========================#\n",
    "#   END YOUR CODE HERE   #\n",
    "#========================# "
   ]
  },
  {
   "attachments": {},
   "cell_type": "markdown",
   "metadata": {},
   "source": [
    "### 4.2 Visualization"
   ]
  },
  {
   "attachments": {},
   "cell_type": "markdown",
   "metadata": {},
   "source": [
    "The clustering results for GMM are saved as `GMM_dataset1.csv` and `GMM_dataset2.csv` respectively under your root folder. Plot the clustering results for the two datasets, with different colors representing different clusters."
   ]
  },
  {
   "cell_type": "code",
   "execution_count": 48,
   "metadata": {},
   "outputs": [
    {
     "data": {
      "image/png": "[encoded data removed]",
      "text/plain": [
       "<Figure size 1080x432 with 2 Axes>"
      ]
     },
     "metadata": {
      "needs_background": "light"
     },
     "output_type": "display_data"
    }
   ],
   "source": [
    "CSV_FILE_PATH1 = 'GMM_dataset1.csv'\n",
    "CSV_FILE_PATH2 = 'GMM_dataset2.csv'\n",
    "\n",
    "df1 = pd.read_csv(CSV_FILE_PATH1,header=None,names=['x','y','pred'])\n",
    "df2 = pd.read_csv(CSV_FILE_PATH2,header=None,names=['x','y','pred'])\n",
    "fig, [ax0,ax1] = plt.subplots(1, 2, figsize=(15, 6))\n",
    "ax0.title.set_text(\"GMM_Dataset1\")\n",
    "ax1.title.set_text(\"GMM_Dataset2\")\n",
    "\n",
    "#========================#\n",
    "# STRART YOUR CODE HERE  #\n",
    "#========================#\n",
    "create_plot(df1, ax0)\n",
    "create_plot(df2, ax1)\n",
    "#========================#\n",
    "#   END YOUR CODE HERE   #\n",
    "#========================# \n",
    "plt.show()\n",
    "    \n",
    "    \n",
    "    "
   ]
  },
  {
   "attachments": {},
   "cell_type": "markdown",
   "metadata": {},
   "source": [
    "\n",
    "**Questions**\n",
    "\n"
   ]
  },
  {
   "attachments": {},
   "cell_type": "markdown",
   "metadata": {},
   "source": [
    "1. Give the pros and cons of GMM algorithm. (At least two for pro and two for cons to get full marks)\n",
    "2. Compare the visualization results from three algorithms, analyze for each dataset why these algorithms would produce such result."
   ]
  },
  {
   "attachments": {},
   "cell_type": "markdown",
   "metadata": {},
   "source": [
    "**Your answer here:**\n"
   ]
  },
  {
   "attachments": {},
   "cell_type": "markdown",
   "metadata": {},
   "source": [
    "<span style=\"color:blue\"> Please type your answer here! </span>"
   ]
  },
  {
   "attachments": {},
   "cell_type": "markdown",
   "metadata": {},
   "source": [
    "Pros of GMM:"
   ]
  },
  {
   "attachments": {},
   "cell_type": "markdown",
   "metadata": {},
   "source": [
    "1.\n",
    "GMM can efficiently classify clusters with different sizes and density\n",
    "\n",
    "2.\n",
    "GMM do not require us the set k (number of clusters) before the algorithm starts.\n",
    "\n",
    "3.\n",
    "GMM is a generative model; that is to say, we can generate any new datapoint given its cluster distribution."
   ]
  },
  {
   "attachments": {},
   "cell_type": "markdown",
   "metadata": {},
   "source": [
    "Cons of GMM:"
   ]
  },
  {
   "attachments": {},
   "cell_type": "markdown",
   "metadata": {},
   "source": [
    "1.\n",
    "It is not suitable for clusters with non-convex shape, such as dataset2.\n",
    "\n",
    "2.\n",
    "It has high computational cost if the dimensions of datapoints and the number of datapoints are high."
   ]
  },
  {
   "attachments": {},
   "cell_type": "markdown",
   "metadata": {},
   "source": [
    "Reasoning over dataset1:"
   ]
  },
  {
   "attachments": {},
   "cell_type": "markdown",
   "metadata": {},
   "source": [
    "We can see that both k-Means and GMM have the perfect purity and NMI classification result. For k-Means, we set the correct k (i.e. number of clusters) initially; for GMM, we run the algorithm long-enough for it to converge. Under such conditions, both algorithms can successfully detect the convex shaped cluster in dataset1.\n",
    "\n",
    "However, for DBSCAN, it only has a purity of 0.94 and NMI of 0.959. This is because that for the left-most cluster, it is more sparsely distributed comparing to others. DBSCAN is less efficient when classifying clusters with different density, so it classifies points at the margin of the left-most cluster as outliers, and thus results in a lower purity."
   ]
  },
  {
   "attachments": {},
   "cell_type": "markdown",
   "metadata": {},
   "source": [
    "Reasoning over dataset2:"
   ]
  },
  {
   "attachments": {},
   "cell_type": "markdown",
   "metadata": {},
   "source": [
    "This dataset has a non-convex shape. As indicated previously, k-Means and GMM are not suitable for non-convex cluster classification. As a result, k-Means has a purity of 0.76 and NMI of 0.205; GMM only has a purity of 0.69 and NMI of 0.1074.\n",
    "\n",
    "On the contrary, DBSCAN can efficiently detect clusters with non-convex shape. So in this case, it has purity of 0.985 and NMI of 0.817. Moreover, different from dataset1, these two non-convex clusters has similar densities, so DBSCAN only classifies 3 marginal points as outliers and has higher accuracy."
   ]
  },
  {
   "attachments": {},
   "cell_type": "markdown",
   "metadata": {},
   "source": [
    "## 5 Bonus Question"
   ]
  },
  {
   "attachments": {},
   "cell_type": "markdown",
   "metadata": {},
   "source": [
    "Prove that KMeans algorithm would guarantee covergence. (**Hint: prove for each step the loss would descrease.**)"
   ]
  },
  {
   "attachments": {},
   "cell_type": "markdown",
   "metadata": {},
   "source": [
    "<span style=\"color:blue\"> Please type your answer here! </span>"
   ]
  },
  {
   "attachments": {},
   "cell_type": "markdown",
   "metadata": {},
   "source": [
    "# End of Homework 4 :)\n",
    "After you've finished the homework, please print out the entire `ipynb` notebook and four `py` files into one PDF file. Make sure you include the output of code cells and answers for questions. Prepare submit it to GradeScope. Also this time remember assign the pages to the questions on GradeScope"
   ]
  }
 ],
 "metadata": {
  "kernelspec": {
   "display_name": "Python 3",
   "language": "python",
   "name": "python3"
  },
  "language_info": {
   "codemirror_mode": {
    "name": "ipython",
    "version": 3
   },
   "file_extension": ".py",
   "mimetype": "text/x-python",
   "name": "python",
   "nbconvert_exporter": "python",
   "pygments_lexer": "ipython3",
   "version": "3.9.6"
  }
 },
 "nbformat": 4,
 "nbformat_minor": 4
}
